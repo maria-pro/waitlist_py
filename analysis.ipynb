{
 "cells": [
  {
   "cell_type": "code",
   "outputs": [],
   "source": [
    "import numpy as np\n",
    "import pandas as pd\n",
    "\n",
    "from sklearn.pipeline import Pipeline\n",
    "from sklearn.preprocessing import StandardScaler, OneHotEncoder, LabelEncoder, RobustScaler\n",
    "\n",
    "import matplotlib\n",
    "import matplotlib.pyplot as plt\n",
    "import seaborn as sns"
   ],
   "metadata": {
    "collapsed": false,
    "ExecuteTime": {
     "end_time": "2024-01-23T09:50:23.110655Z",
     "start_time": "2024-01-23T09:50:22.659497Z"
    }
   },
   "id": "1ed19dc047586a8a",
   "execution_count": 29
  },
  {
   "cell_type": "markdown",
   "source": [],
   "metadata": {
    "collapsed": false
   },
   "id": "351563a1de25f7d4"
  },
  {
   "cell_type": "code",
   "outputs": [
    {
     "data": {
      "text/plain": "   record_id redcap_event_name project_id                   dob  age  p_lang  \\\n0          8    baseline_arm_1     WL0008  1980-10-26T00:00:00Z   41       1   \n1         10    baseline_arm_1     WL0010  1958-03-05T00:00:00Z   64       1   \n2         13    baseline_arm_1     WL0013  1958-08-24T00:00:00Z   63       1   \n3         16    baseline_arm_1     WL0016  1947-10-26T00:00:00Z   74       1   \n4         18    baseline_arm_1     WL0018  1966-03-24T00:00:00Z   56       1   \n\n  p_lang_2          suburb    pc         date_referral  ...  p4_1  p4_2  p4_3  \\\n0      NaN         TARNEIT  3029  2019-01-02T00:00:00Z  ...   6.0   7.0   9.0   \n1      NaN        WERRIBEE  3030  2019-01-02T00:00:00Z  ...   7.0   6.0   6.0   \n2      NaN    KEILOR DOWNS  3038  2019-01-08T00:00:00Z  ...   5.0   3.0   7.0   \n3      NaN  WEST FOOTSCRAY  3012  2019-01-08T00:00:00Z  ...   8.0   8.0   8.0   \n4      NaN      KINGS PARK  3021  2019-01-16T00:00:00Z  ...   3.0   3.0   3.0   \n\n   p4_4  P4_total  NRS   paincat   OA  PA_guidelines_recoded  cvdrisk_index  \n0   9.0      31.0  7.0  Moderate   No                      0              1  \n1   8.0      27.0  7.0  Moderate  Yes                      1              3  \n2   3.0      18.0  8.0    Severe  Yes                      0              0  \n3   8.0      32.0  8.0    Severe  Yes                      1              2  \n4   3.0      12.0  3.0      Mild   No                      0              1  \n\n[5 rows x 161 columns]",
      "text/html": "<div>\n<style scoped>\n    .dataframe tbody tr th:only-of-type {\n        vertical-align: middle;\n    }\n\n    .dataframe tbody tr th {\n        vertical-align: top;\n    }\n\n    .dataframe thead th {\n        text-align: right;\n    }\n</style>\n<table border=\"1\" class=\"dataframe\">\n  <thead>\n    <tr style=\"text-align: right;\">\n      <th></th>\n      <th>record_id</th>\n      <th>redcap_event_name</th>\n      <th>project_id</th>\n      <th>dob</th>\n      <th>age</th>\n      <th>p_lang</th>\n      <th>p_lang_2</th>\n      <th>suburb</th>\n      <th>pc</th>\n      <th>date_referral</th>\n      <th>...</th>\n      <th>p4_1</th>\n      <th>p4_2</th>\n      <th>p4_3</th>\n      <th>p4_4</th>\n      <th>P4_total</th>\n      <th>NRS</th>\n      <th>paincat</th>\n      <th>OA</th>\n      <th>PA_guidelines_recoded</th>\n      <th>cvdrisk_index</th>\n    </tr>\n  </thead>\n  <tbody>\n    <tr>\n      <th>0</th>\n      <td>8</td>\n      <td>baseline_arm_1</td>\n      <td>WL0008</td>\n      <td>1980-10-26T00:00:00Z</td>\n      <td>41</td>\n      <td>1</td>\n      <td>NaN</td>\n      <td>TARNEIT</td>\n      <td>3029</td>\n      <td>2019-01-02T00:00:00Z</td>\n      <td>...</td>\n      <td>6.0</td>\n      <td>7.0</td>\n      <td>9.0</td>\n      <td>9.0</td>\n      <td>31.0</td>\n      <td>7.0</td>\n      <td>Moderate</td>\n      <td>No</td>\n      <td>0</td>\n      <td>1</td>\n    </tr>\n    <tr>\n      <th>1</th>\n      <td>10</td>\n      <td>baseline_arm_1</td>\n      <td>WL0010</td>\n      <td>1958-03-05T00:00:00Z</td>\n      <td>64</td>\n      <td>1</td>\n      <td>NaN</td>\n      <td>WERRIBEE</td>\n      <td>3030</td>\n      <td>2019-01-02T00:00:00Z</td>\n      <td>...</td>\n      <td>7.0</td>\n      <td>6.0</td>\n      <td>6.0</td>\n      <td>8.0</td>\n      <td>27.0</td>\n      <td>7.0</td>\n      <td>Moderate</td>\n      <td>Yes</td>\n      <td>1</td>\n      <td>3</td>\n    </tr>\n    <tr>\n      <th>2</th>\n      <td>13</td>\n      <td>baseline_arm_1</td>\n      <td>WL0013</td>\n      <td>1958-08-24T00:00:00Z</td>\n      <td>63</td>\n      <td>1</td>\n      <td>NaN</td>\n      <td>KEILOR DOWNS</td>\n      <td>3038</td>\n      <td>2019-01-08T00:00:00Z</td>\n      <td>...</td>\n      <td>5.0</td>\n      <td>3.0</td>\n      <td>7.0</td>\n      <td>3.0</td>\n      <td>18.0</td>\n      <td>8.0</td>\n      <td>Severe</td>\n      <td>Yes</td>\n      <td>0</td>\n      <td>0</td>\n    </tr>\n    <tr>\n      <th>3</th>\n      <td>16</td>\n      <td>baseline_arm_1</td>\n      <td>WL0016</td>\n      <td>1947-10-26T00:00:00Z</td>\n      <td>74</td>\n      <td>1</td>\n      <td>NaN</td>\n      <td>WEST FOOTSCRAY</td>\n      <td>3012</td>\n      <td>2019-01-08T00:00:00Z</td>\n      <td>...</td>\n      <td>8.0</td>\n      <td>8.0</td>\n      <td>8.0</td>\n      <td>8.0</td>\n      <td>32.0</td>\n      <td>8.0</td>\n      <td>Severe</td>\n      <td>Yes</td>\n      <td>1</td>\n      <td>2</td>\n    </tr>\n    <tr>\n      <th>4</th>\n      <td>18</td>\n      <td>baseline_arm_1</td>\n      <td>WL0018</td>\n      <td>1966-03-24T00:00:00Z</td>\n      <td>56</td>\n      <td>1</td>\n      <td>NaN</td>\n      <td>KINGS PARK</td>\n      <td>3021</td>\n      <td>2019-01-16T00:00:00Z</td>\n      <td>...</td>\n      <td>3.0</td>\n      <td>3.0</td>\n      <td>3.0</td>\n      <td>3.0</td>\n      <td>12.0</td>\n      <td>3.0</td>\n      <td>Mild</td>\n      <td>No</td>\n      <td>0</td>\n      <td>1</td>\n    </tr>\n  </tbody>\n</table>\n<p>5 rows × 161 columns</p>\n</div>"
     },
     "execution_count": 37,
     "metadata": {},
     "output_type": "execute_result"
    }
   ],
   "source": [
    "data=pd.read_csv('/Users/e5028514/Desktop/Projects/waitlist/data/data_clean.csv')\n",
    "data.head()\n",
    "\n"
   ],
   "metadata": {
    "collapsed": false,
    "ExecuteTime": {
     "end_time": "2024-01-23T20:39:45.520808Z",
     "start_time": "2024-01-23T20:39:45.496708Z"
    }
   },
   "id": "6ee8d6e34f4e93d9",
   "execution_count": 37
  },
  {
   "cell_type": "code",
   "outputs": [],
   "source": [
    "data.describe()"
   ],
   "metadata": {
    "collapsed": false
   },
   "id": "1c0041743898f3e4"
  },
  {
   "cell_type": "code",
   "outputs": [
    {
     "name": "stdout",
     "output_type": "stream",
     "text": [
      "['redcap_event_name', 'project_id', 'dob', 'age', 'p_lang', 'p_lang_2', 'suburb', 'pc', 'date_referral', 'referral_joints', 'shoulder', 'arm', 'elbow', 'wrist', 'hand', 'hip', 'knee', 'ankle', 'foot', 'other', 'other_exp', 'joint.affected', 'side.afected', 'oa_check', 'ref_comms', 'date.completed', 'wait.time.days', 'marital.status', 'gender', 'gender.text', 'employment', 'employment.binary', 'study_prompt', 'study_status', 'edu_level', 'highest.ed', 'Education.binary', 'cob', 'cob.binary', 'aus_indigenous', 'nz_indigenous', 'aoa', 'mh_1', 'mh_2', 'mh_3', 'mh_4', 'mh_5', 'mh_6', 'mh_7', 'mh_8', 'mh_9', 'mh_10', 'cvd_info', 'injury_dets', 'medications', 'medications.listed', 'surgery', 'surgery.listed', 'high.BP', 'high.cholesterol', 'diabetes', 'smoke', 'smoking.amount', 'exsmoker', 'exsmoker.amount', 'alcohol', 'alcohol.amount', 'EQ5D_mobility', 'EQ5D_pc', 'EQ5D_ua', 'EQ5D_pain', 'EQ5D_anxdep', 'EQ-5D_VAS', 'EQprofile', 'walksess', 'walkhrs', 'walkmins', 'walk.time', 'gardsess', 'gardhrs', 'gardmins', 'garden.time', 'vigsess', 'vighrs', 'vigmins', 'vig.time', 'modsess', 'modhrs', 'modmins', 'mod.time', 'AAS_total', 'PA_guidelines', 'aas9a', 'aas9b', 'aas9c', 'aas9d', 'aas9e', 'nut1', 'nut2', 'nut3', 'nut4', 'nut5', 'nut6', 'Sleep', 'Sedentary.time', 'Enough.sleep', 'k10_1', 'k10_2', 'k10_3', 'k10_4', 'k10_5', 'k10_6', 'k10_7', 'k10_8', 'k10_9', 'k10_10', 'K10_total', 'phq_9_1', 'phq_9_2', 'phq_9_3', 'phq_9_4', 'phq_9_5', 'phq_9_6', 'phq_9_7', 'phq_9_8', 'phq_9_9', 'PHQ_total', 'MDD', 'PHQ_cat', 'swemwbs_1', 'swemwbs_2', 'swemwbs_3', 'swemwbs_4', 'swemwbs_5', 'swemwbs_6', 'swemwbs_7', 'swemwbs_total', 'uclals_1', 'uclals_2', 'uclals_3', 'uslals_total', 'scs_1', 'scs_2', 'scs_3', 'scs_4', 'scs_5', 'scs_6', 'scs_7', 'scs_8', 'scs_score', 'p4_1', 'p4_2', 'p4_3', 'p4_4', 'P4_total', 'NRS', 'paincat', 'OA', 'PA_guidelines_recoded', 'cvdrisk_index']\n"
     ]
    }
   ],
   "source": [
    "var=data.columns.tolist()\n",
    "var\n",
    "\n",
    "data.shape\n",
    "\n",
    "data.columns\n",
    "\n",
    "data['record_id'].value_counts().sort_values()\n",
    "data2=data.drop(['record_id'],axis=1, inplace=False)\n",
    "print(data2.columns.tolist())\n"
   ],
   "metadata": {
    "collapsed": false,
    "ExecuteTime": {
     "end_time": "2024-01-23T20:40:00.345254Z",
     "start_time": "2024-01-23T20:40:00.341070Z"
    }
   },
   "id": "5f5c705e44801ede",
   "execution_count": 38
  },
  {
   "cell_type": "code",
   "outputs": [],
   "source": [
    "data.drop(['record_id'], axis=1, inplace=True)"
   ],
   "metadata": {
    "collapsed": false,
    "ExecuteTime": {
     "end_time": "2024-01-23T20:40:38.587424Z",
     "start_time": "2024-01-23T20:40:38.582154Z"
    }
   },
   "id": "71308f196d0ab83",
   "execution_count": 39
  },
  {
   "cell_type": "code",
   "outputs": [],
   "source": [],
   "metadata": {
    "collapsed": false
   },
   "id": "abdd8582a1c62d41"
  }
 ],
 "metadata": {
  "kernelspec": {
   "display_name": "Python 3",
   "language": "python",
   "name": "python3"
  },
  "language_info": {
   "codemirror_mode": {
    "name": "ipython",
    "version": 2
   },
   "file_extension": ".py",
   "mimetype": "text/x-python",
   "name": "python",
   "nbconvert_exporter": "python",
   "pygments_lexer": "ipython2",
   "version": "2.7.6"
  }
 },
 "nbformat": 4,
 "nbformat_minor": 5
}
